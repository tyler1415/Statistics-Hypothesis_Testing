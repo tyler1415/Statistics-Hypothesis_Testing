{
 "cells": [
  {
   "cell_type": "markdown",
   "id": "c02c2d91",
   "metadata": {},
   "source": [
    "# Import Libraries"
   ]
  },
  {
   "cell_type": "code",
   "execution_count": 1,
   "id": "d0de02e2",
   "metadata": {},
   "outputs": [],
   "source": [
    "import pandas as pd\n",
    "import numpy as np\n",
    "import matplotlib.pyplot as plt\n",
    "import statsmodels.api as sm\n",
    "import scipy.stats as st"
   ]
  },
  {
   "cell_type": "markdown",
   "id": "4e2955b3",
   "metadata": {},
   "source": [
    "# Obtain P Values from Z Scores"
   ]
  },
  {
   "cell_type": "markdown",
   "id": "5be90caa",
   "metadata": {},
   "source": [
    "# P Value From Z Score - Lower Tail Test"
   ]
  },
  {
   "cell_type": "code",
   "execution_count": 3,
   "id": "817a65d3",
   "metadata": {},
   "outputs": [
    {
     "name": "stdout",
     "output_type": "stream",
     "text": [
      "0.0228\n"
     ]
    }
   ],
   "source": [
    "#P Value From Z Score - Lower Tail Test\n",
    "#Round P value to 4 sig. digits based on a given Z Score \n",
    "\n",
    "z = 2.00\n",
    "\n",
    "p = st.norm.sf(abs(-z))\n",
    "print(round(p, 4))"
   ]
  },
  {
   "cell_type": "markdown",
   "id": "77db8770",
   "metadata": {},
   "source": [
    "# P Value From Z Score - Upper Tail Test"
   ]
  },
  {
   "cell_type": "code",
   "execution_count": 4,
   "id": "95fd7291",
   "metadata": {},
   "outputs": [
    {
     "name": "stdout",
     "output_type": "stream",
     "text": [
      "0.0082\n"
     ]
    }
   ],
   "source": [
    "#P Value From Z Score - Upper Tail Test\n",
    "#Round P value to 4 sig. digits based on a given Z Score \n",
    "\n",
    "z = 2.40\n",
    "\n",
    "p = st.norm.cdf(z) - 1\n",
    "print(abs(round(p, 4)))"
   ]
  },
  {
   "cell_type": "markdown",
   "id": "d124228d",
   "metadata": {},
   "source": [
    "# P Value From Z Score - Two Tail Test "
   ]
  },
  {
   "cell_type": "code",
   "execution_count": 5,
   "id": "b1453a30",
   "metadata": {},
   "outputs": [
    {
     "name": "stdout",
     "output_type": "stream",
     "text": [
      "0.0026\n"
     ]
    }
   ],
   "source": [
    "#P Value From Z Score - Two Tail Test \n",
    "#Round P value to 4 sig. digits based on a given Z Score \n",
    "\n",
    "z = 3.01\n",
    "\n",
    "p = st.norm.sf(abs(z))*2\n",
    "print(round(p, 4))"
   ]
  },
  {
   "cell_type": "markdown",
   "id": "584dc1a9",
   "metadata": {},
   "source": [
    "# ---------------------------------------------------------------------------------------------------------------"
   ]
  },
  {
   "cell_type": "markdown",
   "id": "85dc4677",
   "metadata": {},
   "source": [
    "# Obtain P Value From T Statistics"
   ]
  },
  {
   "cell_type": "markdown",
   "id": "aa761f1b",
   "metadata": {},
   "source": [
    "# P Value From T Statistic - Lower Tail Test"
   ]
  },
  {
   "cell_type": "code",
   "execution_count": 6,
   "id": "5c453473",
   "metadata": {},
   "outputs": [
    {
     "name": "stdout",
     "output_type": "stream",
     "text": [
      "0.0094\n"
     ]
    }
   ],
   "source": [
    "# P Value From T Statistic - Lower Tail Test\n",
    "#Round P value to 4 sig. digits based on a given T Statistic\n",
    "\n",
    "t = 2.40\n",
    "df = 75\n",
    "\n",
    "p = st.t.sf(abs(t), df=df)\n",
    "print(round(p, 4))"
   ]
  },
  {
   "cell_type": "markdown",
   "id": "0feeeda9",
   "metadata": {},
   "source": [
    "# P Value From T Statistic - Upper Tail Test"
   ]
  },
  {
   "cell_type": "code",
   "execution_count": 7,
   "id": "952c7b3d",
   "metadata": {},
   "outputs": [
    {
     "name": "stdout",
     "output_type": "stream",
     "text": [
      "0.0149\n"
     ]
    }
   ],
   "source": [
    "# P Value From T Statistic - Upper Tail Test\n",
    "#Round P value to 4 sig. digits based on a given T Statistic\n",
    "\n",
    "t = 2.531\n",
    "df = 10\n",
    "\n",
    "p = st.t.sf(abs(t), df=df)\n",
    "print(round(p,4))"
   ]
  },
  {
   "cell_type": "markdown",
   "id": "e85025cb",
   "metadata": {},
   "source": [
    "# P Value From T Statistic - Two Tailed Test"
   ]
  },
  {
   "cell_type": "code",
   "execution_count": 8,
   "id": "f1be2a78",
   "metadata": {},
   "outputs": [
    {
     "name": "stdout",
     "output_type": "stream",
     "text": [
      "0.9608\n"
     ]
    }
   ],
   "source": [
    "# P Value From T Statistic - Two Tail Test\n",
    "#Round P value to 4 sig. digits based on a given T Statistic\n",
    "\n",
    "p = 0.05\n",
    "df = 15\n",
    "\n",
    "p = st.t.sf(abs(-p), df=df)*2 # subtract 2 from n for df\n",
    "print(round(p, 4))"
   ]
  },
  {
   "cell_type": "markdown",
   "id": "24a5d1b8",
   "metadata": {},
   "source": [
    "------------------"
   ]
  },
  {
   "cell_type": "markdown",
   "id": "95945ca0",
   "metadata": {},
   "source": [
    "# BREAK"
   ]
  },
  {
   "cell_type": "markdown",
   "id": "be4f829c",
   "metadata": {},
   "source": [
    "------------------"
   ]
  },
  {
   "cell_type": "markdown",
   "id": "b168f464",
   "metadata": {},
   "source": [
    "# Obtain Z Scores from Alpha Values"
   ]
  },
  {
   "cell_type": "markdown",
   "id": "d8f86e25",
   "metadata": {},
   "source": [
    "# Z Score From Alpha Value - Lower Tail Test"
   ]
  },
  {
   "cell_type": "code",
   "execution_count": 9,
   "id": "1351c2a6",
   "metadata": {},
   "outputs": [
    {
     "name": "stdout",
     "output_type": "stream",
     "text": [
      "-1.27\n"
     ]
    }
   ],
   "source": [
    "#Z Score From Alpha Value - Lower Tail Test\n",
    "#Round Z Score to 2 sig. digits based on a given alpha value\n",
    "\n",
    "alpha = 0.102\n",
    "confidence_value = 1 - alpha\n",
    "\n",
    "z = st.norm.ppf(confidence_value) # 1 - alpha\n",
    "print(f'-{round(z, 2)}')"
   ]
  },
  {
   "cell_type": "markdown",
   "id": "0ee9ae3d",
   "metadata": {},
   "source": [
    "# Z Score From Alpha Value - Upper Tail Test"
   ]
  },
  {
   "cell_type": "code",
   "execution_count": 10,
   "id": "9e3a35fe",
   "metadata": {},
   "outputs": [
    {
     "name": "stdout",
     "output_type": "stream",
     "text": [
      "1.64\n"
     ]
    }
   ],
   "source": [
    "#Z Score From Alpha Value - Upper Tail Test\n",
    "#Round Z Score to 2 sig. digits based on a given alpha value\n",
    "\n",
    "alpha = 0.05\n",
    "confidence_value = 1 - alpha\n",
    "\n",
    "z = st.norm.ppf(confidence_value) # 1 - alpha\n",
    "print(round(z, 2))"
   ]
  },
  {
   "cell_type": "markdown",
   "id": "aa477088",
   "metadata": {},
   "source": [
    "# Z Score From Alpha Value - Two Tail Test"
   ]
  },
  {
   "cell_type": "code",
   "execution_count": 70,
   "id": "883bf38e",
   "metadata": {
    "scrolled": true
   },
   "outputs": [
    {
     "name": "stdout",
     "output_type": "stream",
     "text": [
      "lower tail = -1.96\n",
      "upper tail = 1.96\n"
     ]
    }
   ],
   "source": [
    "#Z Score From Alpha Value - Two Tail Test\n",
    "#Round Z Score to 2 sig. digits based on a given alpha value\n",
    "\n",
    "\n",
    "alpha = .05 \n",
    "critical_area_per_tail = alpha/2\n",
    "\n",
    "lowerTail = st.norm.ppf(1 - critical_area_per_tail)\n",
    "upperTail = st.norm.ppf(1 - critical_area_per_tail)\n",
    "\n",
    "print(f'lower tail = -{round(lowerTail, 2)}')\n",
    "print(f'upper tail = {round(upperTail, 2)}')"
   ]
  },
  {
   "cell_type": "markdown",
   "id": "3e5e566d",
   "metadata": {},
   "source": [
    "# Obtain T Scores from Alpha Values"
   ]
  },
  {
   "cell_type": "markdown",
   "id": "45c151fa",
   "metadata": {},
   "source": [
    "# T Score From Alpha Value - Lower Tail Test"
   ]
  },
  {
   "cell_type": "code",
   "execution_count": 11,
   "id": "a498ed2e",
   "metadata": {},
   "outputs": [
    {
     "name": "stdout",
     "output_type": "stream",
     "text": [
      "-1.7\n"
     ]
    }
   ],
   "source": [
    "#T Score From Alpha Value - Lower Tail Test\n",
    "#Round T Score to 2 sig. digits based on a given alpha value and degress of freedom\n",
    "\n",
    "alpha = 0.05\n",
    "degrees_of_freedom = 29 # subtract 1 from n for df\n",
    "\n",
    "\n",
    "t = st.t.ppf(alpha,degrees_of_freedom) \n",
    "print(round(t, 2))"
   ]
  },
  {
   "cell_type": "markdown",
   "id": "ec38a7dd",
   "metadata": {},
   "source": [
    "# T Score From Alpha Value - Upper Tail Test"
   ]
  },
  {
   "cell_type": "code",
   "execution_count": 12,
   "id": "c74e3813",
   "metadata": {},
   "outputs": [
    {
     "name": "stdout",
     "output_type": "stream",
     "text": [
      "1.71\n"
     ]
    }
   ],
   "source": [
    "#T Score From Alpha Value - Upper Tail Test\n",
    "#Round T Score to 2 sig. digits based on a given alpha value and degress of freedom\n",
    "\n",
    "alpha = 0.05\n",
    "alpha = 1 - alpha\n",
    "degrees_of_freedom = 25 # subtract 1 from n for df\n",
    "\n",
    "\n",
    "t = st.t.ppf(alpha,degrees_of_freedom) \n",
    "print(round(t, 2))"
   ]
  },
  {
   "cell_type": "markdown",
   "id": "f1aee995",
   "metadata": {},
   "source": [
    "# T Score From Alpha Value - Two Tail Test"
   ]
  },
  {
   "cell_type": "code",
   "execution_count": 13,
   "id": "ebbf5dca",
   "metadata": {},
   "outputs": [
    {
     "name": "stdout",
     "output_type": "stream",
     "text": [
      "2.05553\n"
     ]
    }
   ],
   "source": [
    "#T Score From Alpha Value - Two Tail Test\n",
    "#Round T Score to 5 sig. digits based on a given alpha value and degress of freedom\n",
    "\n",
    "alpha = 0.05\n",
    "alpha = 1-alpha/2\n",
    "degrees_of_freedom = 26 # subtract 1 from n for df\n",
    "\n",
    "t =  st.t.ppf(alpha,df= 26)\n",
    "print(round(t, 5))"
   ]
  },
  {
   "cell_type": "markdown",
   "id": "4d86231b",
   "metadata": {},
   "source": [
    "-------------------"
   ]
  },
  {
   "cell_type": "markdown",
   "id": "6a4e0c98",
   "metadata": {},
   "source": [
    "# BREAK"
   ]
  },
  {
   "cell_type": "markdown",
   "id": "8e1cc373",
   "metadata": {},
   "source": [
    "-------------------"
   ]
  },
  {
   "cell_type": "markdown",
   "id": "0e9281c9",
   "metadata": {},
   "source": [
    "# Chi-Square Statistics"
   ]
  },
  {
   "cell_type": "markdown",
   "id": "8a3c1ad8",
   "metadata": {},
   "source": [
    "# Chi-Square Value From P Value - Upper Tail Test"
   ]
  },
  {
   "cell_type": "code",
   "execution_count": 14,
   "id": "6ce0c619",
   "metadata": {},
   "outputs": [
    {
     "name": "stdout",
     "output_type": "stream",
     "text": [
      "Upper tail p-value: 0.8336\n"
     ]
    }
   ],
   "source": [
    "#Chi-Square Value From P Value - Upper Tail Test\n",
    "##Round p value to 4 sig. digits based on a given Chi2 stat and degress of freedom\n",
    "\n",
    "chi2_stat = 8.96\n",
    "df = 14\n",
    "\n",
    "p_upper = st.chi2.sf(chi2_stat, df)\n",
    "print(f\"Upper tail p-value: {p_upper:.4f}\")"
   ]
  },
  {
   "cell_type": "markdown",
   "id": "58e1ecef",
   "metadata": {},
   "source": [
    "# Chi-Square Value From P Value - Lower Tail Test"
   ]
  },
  {
   "cell_type": "code",
   "execution_count": 15,
   "id": "6207294f",
   "metadata": {},
   "outputs": [
    {
     "name": "stdout",
     "output_type": "stream",
     "text": [
      "Lower tail p-value: 0.1664\n"
     ]
    }
   ],
   "source": [
    "#Chi-Square Value From P Value - Lower Tail Test\n",
    "##Round p value to 4 sig. digits based on a given Chi2 stat and degress of freedom\n",
    "\n",
    "chi2_stat = 8.96\n",
    "df = 14\n",
    "\n",
    "p_lower = st.chi2.cdf(chi2_stat, df)\n",
    "print(f\"Lower tail p-value: {p_lower:.4f}\")"
   ]
  },
  {
   "cell_type": "markdown",
   "id": "c18943ad",
   "metadata": {},
   "source": [
    "# Chi-Square Critical Value"
   ]
  },
  {
   "cell_type": "code",
   "execution_count": null,
   "id": "1c13ee7a",
   "metadata": {},
   "outputs": [],
   "source": [
    "st.chi2.ppf(1-.05, df=3)\n"
   ]
  },
  {
   "cell_type": "markdown",
   "id": "b3e7a339",
   "metadata": {},
   "source": [
    "# P-Value from Chi-Square Statistic"
   ]
  },
  {
   "cell_type": "code",
   "execution_count": null,
   "id": "38102f44",
   "metadata": {},
   "outputs": [],
   "source": [
    "1 - st.chi2.cdf(7.11, 2)"
   ]
  },
  {
   "cell_type": "markdown",
   "id": "73b43289",
   "metadata": {},
   "source": [
    "# BREAK"
   ]
  },
  {
   "cell_type": "markdown",
   "id": "ae5dc9d0",
   "metadata": {},
   "source": [
    "# F Test Functions"
   ]
  },
  {
   "cell_type": "markdown",
   "id": "0db1cded",
   "metadata": {},
   "source": [
    "# F Test Critical Value"
   ]
  },
  {
   "cell_type": "code",
   "execution_count": null,
   "id": "437081a4",
   "metadata": {},
   "outputs": [],
   "source": [
    "st.f.ppf(q=1-0.01, dfn=8, dfd=29) #alpha - 1, regression df, error df /// alpha - 1, numerator df, denominator df"
   ]
  },
  {
   "cell_type": "markdown",
   "id": "17998275",
   "metadata": {},
   "source": [
    "# F Test P Value"
   ]
  },
  {
   "cell_type": "code",
   "execution_count": null,
   "id": "b8fd2d41",
   "metadata": {},
   "outputs": [],
   "source": [
    "F_Test = st.f.cdf(1.8, dfn=4, dfd=20) - 1 # F value, regression df, error df\n",
    "abs(F_Test)"
   ]
  },
  {
   "cell_type": "raw",
   "id": "236b6ee5",
   "metadata": {},
   "source": [
    "---------------------"
   ]
  },
  {
   "cell_type": "markdown",
   "id": "e2cc6796",
   "metadata": {},
   "source": [
    "# Misc"
   ]
  },
  {
   "cell_type": "markdown",
   "id": "58a01ca2",
   "metadata": {},
   "source": [
    "---------------------"
   ]
  },
  {
   "cell_type": "markdown",
   "id": "a9eae5e3",
   "metadata": {},
   "source": [
    "# Degrees of Freedom for Comparing Samples When Variances Are Not Assumed to be Equal"
   ]
  },
  {
   "cell_type": "code",
   "execution_count": 72,
   "id": "7d4d339a",
   "metadata": {},
   "outputs": [
    {
     "data": {
      "text/plain": [
       "36.80380673499268"
      ]
     },
     "execution_count": 72,
     "metadata": {},
     "output_type": "execute_result"
    }
   ],
   "source": [
    "n1 = 25\n",
    "n2 = 20\n",
    "x1 = 9\n",
    "x2 = 8\n",
    "s1 = 2\n",
    "s2 = 1\n",
    "\n",
    "num = (s1**2/n1 + s2**2/n2)**2\n",
    "\n",
    "den = (1/(n1-1))*(s1**2/n1)**2 + (1/(n2-1))*(s2**2/n2)**2\n",
    "\n",
    "result = num/den\n",
    "\n",
    "result\n"
   ]
  },
  {
   "cell_type": "markdown",
   "id": "6963a993",
   "metadata": {},
   "source": [
    "# Calculate the Pooled Variance (standard two-sample t-test with equal variances)"
   ]
  },
  {
   "cell_type": "code",
   "execution_count": 47,
   "id": "cc619bae",
   "metadata": {},
   "outputs": [
    {
     "data": {
      "text/plain": [
       "7706.25"
      ]
     },
     "execution_count": 47,
     "metadata": {},
     "output_type": "execute_result"
    }
   ],
   "source": [
    "n1 = 10\n",
    "n2 = 12\n",
    "s1 = 85\n",
    "s2 = 90\n",
    "\n",
    "num = (n1 - 1)*s1**2 + (n2 - 1)*s2**2\n",
    "\n",
    "den = n1 + n2 - 2\n",
    "\n",
    "result = num/den\n",
    "\n",
    "round(result, 2)\n"
   ]
  }
 ],
 "metadata": {
  "kernelspec": {
   "display_name": "Python 3 (ipykernel)",
   "language": "python",
   "name": "python3"
  },
  "language_info": {
   "codemirror_mode": {
    "name": "ipython",
    "version": 3
   },
   "file_extension": ".py",
   "mimetype": "text/x-python",
   "name": "python",
   "nbconvert_exporter": "python",
   "pygments_lexer": "ipython3",
   "version": "3.9.12"
  }
 },
 "nbformat": 4,
 "nbformat_minor": 5
}
